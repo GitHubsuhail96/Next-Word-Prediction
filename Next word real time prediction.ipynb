{
 "cells": [
  {
   "cell_type": "code",
   "execution_count": 1,
   "id": "0a10a323",
   "metadata": {},
   "outputs": [],
   "source": [
    "from tensorflow.keras.models import load_model\n",
    "import joblib"
   ]
  },
  {
   "cell_type": "code",
   "execution_count": 2,
   "id": "67712bbe",
   "metadata": {},
   "outputs": [],
   "source": [
    "trained_model = load_model(r\"C:\\Data Science course\\Deep Learning\\Next_word_model.h5\")"
   ]
  },
  {
   "cell_type": "code",
   "execution_count": 3,
   "id": "773d002e",
   "metadata": {},
   "outputs": [
    {
     "data": {
      "text/plain": [
       "<keras.engine.sequential.Sequential at 0x1bebea68790>"
      ]
     },
     "execution_count": 3,
     "metadata": {},
     "output_type": "execute_result"
    }
   ],
   "source": [
    "trained_model"
   ]
  },
  {
   "cell_type": "code",
   "execution_count": 4,
   "id": "8cdba1b5",
   "metadata": {},
   "outputs": [],
   "source": [
    "tk = joblib.load(r\"C:\\Data Science course\\Deep Learning\\net_work_tk.pkl\")"
   ]
  },
  {
   "cell_type": "code",
   "execution_count": 5,
   "id": "0f63a603",
   "metadata": {},
   "outputs": [
    {
     "data": {
      "text/plain": [
       "<keras.preprocessing.text.Tokenizer at 0x1bebff5b130>"
      ]
     },
     "execution_count": 5,
     "metadata": {},
     "output_type": "execute_result"
    }
   ],
   "source": [
    "tk"
   ]
  },
  {
   "cell_type": "code",
   "execution_count": 6,
   "id": "d56b27df",
   "metadata": {},
   "outputs": [],
   "source": [
    "import re"
   ]
  },
  {
   "cell_type": "code",
   "execution_count": 7,
   "id": "3e950ff5",
   "metadata": {},
   "outputs": [],
   "source": [
    "re_special_char = \"[^a-z\\s]\""
   ]
  },
  {
   "cell_type": "code",
   "execution_count": 99,
   "id": "035a7a35",
   "metadata": {},
   "outputs": [],
   "source": [
    "sent = \"Get out of this\""
   ]
  },
  {
   "cell_type": "code",
   "execution_count": 100,
   "id": "e13f7055",
   "metadata": {},
   "outputs": [],
   "source": [
    "def text_preprocessing(review):\n",
    "    review = str(review)\n",
    "    #Normalizing the case \n",
    "    review = review.lower()\n",
    "    #Removal of special characters\n",
    "    review = re.sub(re_special_char,\"\", review)\n",
    "    return review"
   ]
  },
  {
   "cell_type": "code",
   "execution_count": 101,
   "id": "338adf2e",
   "metadata": {},
   "outputs": [],
   "source": [
    "sent = text_preprocessing(sent)"
   ]
  },
  {
   "cell_type": "code",
   "execution_count": 102,
   "id": "cf43b5f8",
   "metadata": {},
   "outputs": [],
   "source": [
    "sent = tk.texts_to_sequences([sent])"
   ]
  },
  {
   "cell_type": "code",
   "execution_count": 103,
   "id": "8e56605e",
   "metadata": {},
   "outputs": [],
   "source": [
    "from tensorflow.keras.preprocessing.sequence import pad_sequences\n"
   ]
  },
  {
   "cell_type": "code",
   "execution_count": 104,
   "id": "408ddad8",
   "metadata": {},
   "outputs": [],
   "source": [
    "max_seq_len = 165"
   ]
  },
  {
   "cell_type": "code",
   "execution_count": 105,
   "id": "583af584",
   "metadata": {},
   "outputs": [],
   "source": [
    "sent = pad_sequences(sent, maxlen = max_seq_len, padding='pre')"
   ]
  },
  {
   "cell_type": "code",
   "execution_count": 106,
   "id": "301301f9",
   "metadata": {},
   "outputs": [
    {
     "data": {
      "text/plain": [
       "array([[ 0,  0,  0,  0,  0,  0,  0,  0,  0,  0,  0,  0,  0,  0,  0,  0,\n",
       "         0,  0,  0,  0,  0,  0,  0,  0,  0,  0,  0,  0,  0,  0,  0,  0,\n",
       "         0,  0,  0,  0,  0,  0,  0,  0,  0,  0,  0,  0,  0,  0,  0,  0,\n",
       "         0,  0,  0,  0,  0,  0,  0,  0,  0,  0,  0,  0,  0,  0,  0,  0,\n",
       "         0,  0,  0,  0,  0,  0,  0,  0,  0,  0,  0,  0,  0,  0,  0,  0,\n",
       "         0,  0,  0,  0,  0,  0,  0,  0,  0,  0,  0,  0,  0,  0,  0,  0,\n",
       "         0,  0,  0,  0,  0,  0,  0,  0,  0,  0,  0,  0,  0,  0,  0,  0,\n",
       "         0,  0,  0,  0,  0,  0,  0,  0,  0,  0,  0,  0,  0,  0,  0,  0,\n",
       "         0,  0,  0,  0,  0,  0,  0,  0,  0,  0,  0,  0,  0,  0,  0,  0,\n",
       "         0,  0,  0,  0,  0,  0,  0,  0,  0,  0,  0,  0,  0,  0,  0,  0,\n",
       "         0, 36, 32,  6, 10]])"
      ]
     },
     "execution_count": 106,
     "metadata": {},
     "output_type": "execute_result"
    }
   ],
   "source": [
    "sent"
   ]
  },
  {
   "cell_type": "code",
   "execution_count": 107,
   "id": "c677179d",
   "metadata": {},
   "outputs": [
    {
     "name": "stdout",
     "output_type": "stream",
     "text": [
      "1/1 [==============================] - 0s 24ms/step\n"
     ]
    }
   ],
   "source": [
    "y_pred = trained_model.predict(sent)"
   ]
  },
  {
   "cell_type": "code",
   "execution_count": 108,
   "id": "ef54c047",
   "metadata": {},
   "outputs": [],
   "source": [
    "import numpy as np"
   ]
  },
  {
   "cell_type": "code",
   "execution_count": 109,
   "id": "96438971",
   "metadata": {},
   "outputs": [
    {
     "data": {
      "text/plain": [
       "17"
      ]
     },
     "execution_count": 109,
     "metadata": {},
     "output_type": "execute_result"
    }
   ],
   "source": [
    "np.argmax(y_pred)"
   ]
  },
  {
   "cell_type": "code",
   "execution_count": 110,
   "id": "b3c329f5",
   "metadata": {},
   "outputs": [
    {
     "data": {
      "text/plain": [
       "1"
      ]
     },
     "execution_count": 110,
     "metadata": {},
     "output_type": "execute_result"
    }
   ],
   "source": [
    "len(y_pred)"
   ]
  },
  {
   "cell_type": "code",
   "execution_count": 111,
   "id": "a7954cea",
   "metadata": {},
   "outputs": [
    {
     "data": {
      "text/plain": [
       "'game'"
      ]
     },
     "execution_count": 111,
     "metadata": {},
     "output_type": "execute_result"
    }
   ],
   "source": [
    "tk.index_word[np.argmax(y_pred[0])]"
   ]
  },
  {
   "cell_type": "code",
   "execution_count": null,
   "id": "8d6afaf2",
   "metadata": {},
   "outputs": [],
   "source": []
  }
 ],
 "metadata": {
  "kernelspec": {
   "display_name": "Python 3 (ipykernel)",
   "language": "python",
   "name": "python3"
  },
  "language_info": {
   "codemirror_mode": {
    "name": "ipython",
    "version": 3
   },
   "file_extension": ".py",
   "mimetype": "text/x-python",
   "name": "python",
   "nbconvert_exporter": "python",
   "pygments_lexer": "ipython3",
   "version": "3.9.12"
  }
 },
 "nbformat": 4,
 "nbformat_minor": 5
}
